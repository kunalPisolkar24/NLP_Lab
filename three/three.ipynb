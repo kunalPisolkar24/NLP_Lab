{
  "cells": [
    {
      "cell_type": "code",
      "execution_count": 1,
      "metadata": {
        "id": "GUww8MqCE4Fk"
      },
      "outputs": [],
      "source": [
        "import pandas as pd\n",
        "import numpy as np\n",
        "import pickle\n",
        "import re\n",
        "import nltk\n",
        "from nltk.corpus import stopwords\n",
        "from nltk.stem import WordNetLemmatizer\n",
        "from nltk.tokenize import word_tokenize\n",
        "from sklearn.preprocessing import LabelEncoder\n",
        "from sklearn.feature_extraction.text import TfidfVectorizer\n",
        "from scipy.sparse import save_npz\n",
        "import matplotlib.pyplot as plt\n",
        "import seaborn as sns"
      ]
    },
    {
      "cell_type": "code",
      "execution_count": 14,
      "metadata": {
        "id": "xK2dTp7PG57G"
      },
      "outputs": [],
      "source": [
        "import warnings\n",
        "warnings.filterwarnings('ignore')"
      ]
    },
    {
      "cell_type": "code",
      "execution_count": 4,
      "metadata": {
        "colab": {
          "base_uri": "https://localhost:8080/"
        },
        "id": "Jc7mId4oFJYg",
        "outputId": "da0d9f4c-3fcd-4ad4-b11a-a45efca49e21"
      },
      "outputs": [
        {
          "name": "stdout",
          "output_type": "stream",
          "text": [
            "--- Downloading NLTK resources (if needed) ---\n",
            "WordNet resource not found. Downloading...\n",
            "OMW-1.4 resource not found. Downloading...\n",
            "Punkt tokenizer resource found.\n",
            "Stopwords resource found.\n",
            "NLTK resources checked/downloaded.\n"
          ]
        }
      ],
      "source": [
        "print(\"--- Downloading NLTK resources (if needed) ---\")\n",
        "try:\n",
        "    nltk.data.find('corpora/wordnet')\n",
        "    print(\"WordNet resource found.\")\n",
        "except LookupError:\n",
        "    print(\"WordNet resource not found. Downloading...\")\n",
        "    nltk.download('wordnet', quiet=True)\n",
        "\n",
        "try:\n",
        "    nltk.data.find('corpora/omw-1.4')\n",
        "    print(\"OMW-1.4 resource found.\")\n",
        "except LookupError:\n",
        "    print(\"OMW-1.4 resource not found. Downloading...\")\n",
        "    nltk.download('omw-1.4', quiet=True)\n",
        "\n",
        "try:\n",
        "    nltk.data.find('tokenizers/punkt')\n",
        "    print(\"Punkt tokenizer resource found.\")\n",
        "except LookupError:\n",
        "    print(\"Punkt tokenizer resource not found. Downloading...\")\n",
        "    nltk.download('punkt', quiet=True)\n",
        "\n",
        "try:\n",
        "    nltk.data.find('corpora/stopwords')\n",
        "    print(\"Stopwords resource found.\")\n",
        "except LookupError:\n",
        "    print(\"Stopwords resource not found. Downloading...\")\n",
        "    nltk.download('stopwords', quiet=True)\n",
        "\n",
        "print(\"NLTK resources checked/downloaded.\")\n"
      ]
    },
    {
      "cell_type": "code",
      "execution_count": 5,
      "metadata": {
        "colab": {
          "base_uri": "https://localhost:8080/"
        },
        "id": "lVoFwGy2FJRz",
        "outputId": "5367156f-ff62-4322-85a3-b4e31fa9bef0"
      },
      "outputs": [
        {
          "name": "stdout",
          "output_type": "stream",
          "text": [
            "\n",
            "--- Loading Data ---\n",
            "DataFrame loaded successfully.\n",
            "Shape of DataFrame: (2225, 6)\n"
          ]
        }
      ],
      "source": [
        "print(\"\\n--- Loading Data ---\")\n",
        "\n",
        "path_df = \"/content/News_dataset.pickle\"\n",
        "\n",
        "with open(path_df, 'rb') as data:\n",
        "    df = pickle.load(data)\n",
        "print(\"DataFrame loaded successfully.\")\n",
        "print(f\"Shape of DataFrame: {df.shape}\")"
      ]
    },
    {
      "cell_type": "code",
      "execution_count": 6,
      "metadata": {
        "colab": {
          "base_uri": "https://localhost:8080/"
        },
        "id": "ZSr7b041FbLm",
        "outputId": "45f19e2c-4df7-402a-a2c3-70a35dda49c7"
      },
      "outputs": [
        {
          "name": "stdout",
          "output_type": "stream",
          "text": [
            "\n",
            "--- Exploratory Data Analysis ---\n",
            "DataFrame Info:\n",
            "<class 'pandas.core.frame.DataFrame'>\n",
            "RangeIndex: 2225 entries, 0 to 2224\n",
            "Data columns (total 6 columns):\n",
            " #   Column             Non-Null Count  Dtype \n",
            "---  ------             --------------  ----- \n",
            " 0   File_Name          2225 non-null   object\n",
            " 1   Content            2225 non-null   object\n",
            " 2   Category           2225 non-null   object\n",
            " 3   Complete_Filename  2225 non-null   object\n",
            " 4   id                 2225 non-null   int64 \n",
            " 5   News_length        2225 non-null   int64 \n",
            "dtypes: int64(2), object(4)\n",
            "memory usage: 104.4+ KB\n",
            "\n",
            "DataFrame Head:\n",
            "  File_Name                                            Content  Category  \\\n",
            "0   001.txt  Ad sales boost Time Warner profit\\r\\n\\r\\nQuart...  business   \n",
            "1   002.txt  Dollar gains on Greenspan speech\\r\\n\\r\\nThe do...  business   \n",
            "2   003.txt  Yukos unit buyer faces loan claim\\r\\n\\r\\nThe o...  business   \n",
            "3   004.txt  High fuel prices hit BA's profits\\r\\n\\r\\nBriti...  business   \n",
            "4   005.txt  Pernod takeover talk lifts Domecq\\r\\n\\r\\nShare...  business   \n",
            "\n",
            "  Complete_Filename  id  News_length  \n",
            "0  001.txt-business   1         2569  \n",
            "1  002.txt-business   1         2257  \n",
            "2  003.txt-business   1         1557  \n",
            "3  004.txt-business   1         2421  \n",
            "4  005.txt-business   1         1575  \n",
            "\n",
            "Check for Missing Values:\n",
            "File_Name            0\n",
            "Content              0\n",
            "Category             0\n",
            "Complete_Filename    0\n",
            "id                   0\n",
            "News_length          0\n",
            "dtype: int64\n"
          ]
        }
      ],
      "source": [
        "print(\"\\n--- Exploratory Data Analysis ---\")\n",
        "\n",
        "# 4.1 Basic Info\n",
        "print(\"DataFrame Info:\")\n",
        "df.info()\n",
        "\n",
        "print(\"\\nDataFrame Head:\")\n",
        "print(df.head())\n",
        "\n",
        "print(\"\\nCheck for Missing Values:\")\n",
        "print(df.isnull().sum())"
      ]
    },
    {
      "cell_type": "code",
      "execution_count": 15,
      "metadata": {
        "colab": {
          "base_uri": "https://localhost:8080/",
          "height": 1000
        },
        "id": "Cal0sLkfFiXQ",
        "outputId": "84375b11-6bbb-4e6c-cfc0-ec1a9c0e3ea8"
      },
      "outputs": [
        {
          "name": "stdout",
          "output_type": "stream",
          "text": [
            "\n",
            "Category Distribution:\n",
            "Category\n",
            "sport            511\n",
            "business         510\n",
            "politics         417\n",
            "tech             401\n",
            "entertainment    386\n",
            "Name: count, dtype: int64\n",
            "\n",
            "\n"
          ]
        },
        {
          "data": {
            "image/png": "[encoded data removed]",
            "text/plain": [
              "<Figure size 1000x600 with 1 Axes>"
            ]
          },
          "metadata": {},
          "output_type": "display_data"
        },
        {
          "name": "stdout",
          "output_type": "stream",
          "text": [
            "\n",
            "News Length Analysis:\n",
            "\n",
            "\n"
          ]
        },
        {
          "data": {
            "image/png": "[encoded data removed]",
            "text/plain": [
              "<Figure size 1000x600 with 1 Axes>"
            ]
          },
          "metadata": {},
          "output_type": "display_data"
        },
        {
          "name": "stdout",
          "output_type": "stream",
          "text": [
            "Average news length: 2274.36 characters\n"
          ]
        }
      ],
      "source": [
        "print(\"\\nCategory Distribution:\")\n",
        "category_counts = df['Category'].value_counts()\n",
        "print(category_counts)\n",
        "print(\"\\n\")\n",
        "\n",
        "plt.figure(figsize=(10, 6))\n",
        "sns.countplot(data=df, y='Category', order=category_counts.index, palette='viridis')\n",
        "plt.title('Distribution of News Categories')\n",
        "plt.xlabel('Number of Articles')\n",
        "plt.ylabel('Category')\n",
        "plt.tight_layout()\n",
        "plt.show()\n",
        "\n",
        "# 4.3 News Length Analysis (using existing 'News_length' column)\n",
        "print(\"\\nNews Length Analysis:\\n\\n\")\n",
        "plt.figure(figsize=(10, 6))\n",
        "sns.histplot(data=df, x='News_length', kde=True, bins=50)\n",
        "plt.title('Distribution of News Article Lengths (Original)')\n",
        "plt.xlabel('Number of Characters')\n",
        "plt.ylabel('Frequency')\n",
        "plt.show()\n",
        "\n",
        "print(f\"Average news length: {df['News_length'].mean():.2f} characters\")"
      ]
    },
    {
      "cell_type": "code",
      "execution_count": 9,
      "metadata": {
        "colab": {
          "base_uri": "https://localhost:8080/"
        },
        "id": "TOZYhZmTFlMl",
        "outputId": "522f566b-84ad-4b72-b82f-a0de3e9bd6c4"
      },
      "outputs": [
        {
          "name": "stderr",
          "output_type": "stream",
          "text": [
            "[nltk_data] Downloading package punkt_tab to /root/nltk_data...\n",
            "[nltk_data]   Unzipping tokenizers/punkt_tab.zip.\n"
          ]
        },
        {
          "name": "stdout",
          "output_type": "stream",
          "text": [
            "\n",
            "--- Performing Text Preprocessing ---\n",
            "Applying preprocessing to 'Content' column...\n",
            "Preprocessing complete.\n",
            "\n",
            "Original Content (first row):\n",
            "Ad sales boost Time Warner profit\n",
            "\n",
            "Quarterly profits at US media giant TimeWarner jumped 76% to $1.13bn (Â£600m) for the three months to December, from $639m year-earlier.\n",
            "\n",
            "The firm, which is now one of the biggest investors in Google, benefited from sales of high-speed internet connections and higher advert sales. TimeWarner said fourth quarter sales rose 2% to $11.1bn from $10.9bn. Its profits were buoyed by one-off gains which offset a profit dip at Warner Bros, and less users for AOL.\n",
            "...\n",
            "\n",
            "Cleaned Content (first row):\n",
            "sale boost time warner profit quarterly profit medium giant timewarner jumped three month december yearearlier firm one biggest investor google benefited sale highspeed internet connection higher advert sale timewarner said fourth quarter sale rose profit buoyed oneoff gain offset profit dip warner bros less user aol time warner said friday owns searchengine google internet business aol mixed fortune lost subscriber fourth quarter profit lower preceding three quarter however company said aols un...\n"
          ]
        }
      ],
      "source": [
        "nltk.download(\"punkt_tab\")\n",
        "print(\"\\n--- Performing Text Preprocessing ---\")\n",
        "\n",
        "# Initialize Lemmatizer and Stopwords list\n",
        "lemmatizer = WordNetLemmatizer()\n",
        "stop_words = set(stopwords.words('english'))\n",
        "\n",
        "def preprocess_text(text):\n",
        "    # 1. Lowercase\n",
        "    text = text.lower()\n",
        "    # 2. Remove punctuation and numbers (keep only letters and spaces)\n",
        "    text = re.sub(r'[^a-z\\s]', '', text)\n",
        "    # 3. Tokenize\n",
        "    words = word_tokenize(text)\n",
        "    # 4. Remove Stop Words and Lemmatize\n",
        "    lemmatized_words = [lemmatizer.lemmatize(word) for word in words if word not in stop_words and len(word) > 2] # Keep words > 2 chars\n",
        "    # 5. Join back into string\n",
        "    return ' '.join(lemmatized_words)\n",
        "\n",
        "# Apply the preprocessing function to the 'Content' column\n",
        "# Using .copy() to avoid SettingWithCopyWarning\n",
        "df_processed = df.copy()\n",
        "print(\"Applying preprocessing to 'Content' column...\")\n",
        "df_processed['Cleaned_Content'] = df_processed['Content'].apply(preprocess_text)\n",
        "print(\"Preprocessing complete.\")\n",
        "\n",
        "# Display comparison for one example\n",
        "print(\"\\nOriginal Content (first row):\")\n",
        "print(df.iloc[0]['Content'][:500] + \"...\") # Show first 500 chars\n",
        "print(\"\\nCleaned Content (first row):\")\n",
        "print(df_processed.iloc[0]['Cleaned_Content'][:500] + \"...\")"
      ]
    },
    {
      "cell_type": "code",
      "execution_count": 10,
      "metadata": {
        "colab": {
          "base_uri": "https://localhost:8080/"
        },
        "id": "ZBvs7fZrGE7C",
        "outputId": "264a9ec9-d65b-4eb8-d194-b1b66b315ac2"
      },
      "outputs": [
        {
          "name": "stdout",
          "output_type": "stream",
          "text": [
            "\n",
            "--- Performing Label Encoding on 'Category' ---\n",
            "Category to Encoded Label Mapping:\n",
            "{'business': np.int64(0), 'entertainment': np.int64(1), 'politics': np.int64(2), 'sport': np.int64(3), 'tech': np.int64(4)}\n",
            "\n",
            "DataFrame Head with Processed Columns:\n",
            "   Category  Category_Encoded  \\\n",
            "0  business                 0   \n",
            "1  business                 0   \n",
            "2  business                 0   \n",
            "3  business                 0   \n",
            "4  business                 0   \n",
            "\n",
            "                                     Cleaned_Content  \n",
            "0  sale boost time warner profit quarterly profit...  \n",
            "1  dollar gain greenspan speech dollar hit highes...  \n",
            "2  yukos unit buyer face loan claim owner embattl...  \n",
            "3  high fuel price hit ba profit british airway b...  \n",
            "4  pernod takeover talk lift domecq share drink f...  \n"
          ]
        }
      ],
      "source": [
        "print(\"\\n--- Performing Label Encoding on 'Category' ---\")\n",
        "label_encoder = LabelEncoder()\n",
        "\n",
        "# Apply Label Encoding\n",
        "df_processed['Category_Encoded'] = label_encoder.fit_transform(df_processed['Category'])\n",
        "\n",
        "# Display mapping\n",
        "category_mapping = dict(zip(label_encoder.classes_, label_encoder.transform(label_encoder.classes_)))\n",
        "print(\"Category to Encoded Label Mapping:\")\n",
        "print(category_mapping)\n",
        "\n",
        "print(\"\\nDataFrame Head with Processed Columns:\")\n",
        "print(df_processed[['Category', 'Category_Encoded', 'Cleaned_Content']].head())"
      ]
    },
    {
      "cell_type": "code",
      "execution_count": 11,
      "metadata": {
        "colab": {
          "base_uri": "https://localhost:8080/"
        },
        "id": "azBzGvYxGMzS",
        "outputId": "1008f6bd-4e2a-4712-a867-b3f41e31155b"
      },
      "outputs": [
        {
          "name": "stdout",
          "output_type": "stream",
          "text": [
            "\n",
            "--- Creating TF-IDF Representations ---\n",
            "Shape of TF-IDF matrix: (2225, 5000)\n",
            "(Number of documents: 2225, Number of unique terms/features: 5000)\n"
          ]
        }
      ],
      "source": [
        "print(\"\\n--- Creating TF-IDF Representations ---\")\n",
        "\n",
        "tfidf_vectorizer = TfidfVectorizer(max_features=5000) # Limit features to top 5000 for efficiency\n",
        "\n",
        "# Fit and transform the cleaned text data\n",
        "tfidf_matrix = tfidf_vectorizer.fit_transform(df_processed['Cleaned_Content'])\n",
        "\n",
        "print(f\"Shape of TF-IDF matrix: {tfidf_matrix.shape}\")\n",
        "print(f\"(Number of documents: {tfidf_matrix.shape[0]}, Number of unique terms/features: {tfidf_matrix.shape[1]})\")\n"
      ]
    },
    {
      "cell_type": "code",
      "execution_count": 13,
      "metadata": {
        "colab": {
          "base_uri": "https://localhost:8080/"
        },
        "id": "RdolbuuPGT8n",
        "outputId": "2d07197f-592f-472c-e285-e9e55feb8a07"
      },
      "outputs": [
        {
          "name": "stdout",
          "output_type": "stream",
          "text": [
            "\n",
            "--- Saving Processed Data and TF-IDF Objects ---\n",
            "Processed DataFrame saved to: /contentprocessed_news_data.pkl\n",
            "TF-IDF matrix saved to: /contenttfidf_matrix.npz\n",
            "TF-IDF vectorizer saved to: /contenttfidf_vectorizer.pkl\n",
            "Label encoder saved to: /contentlabel_encoder.pkl\n",
            "\n",
            "--- All Steps Completed Successfully ---\n"
          ]
        }
      ],
      "source": [
        "print(\"\\n--- Saving Processed Data and TF-IDF Objects ---\")\n",
        "\n",
        "# Define output paths (adjust as needed, Kaggle uses /kaggle/working/)\n",
        "output_dir = \"/content\"\n",
        "processed_df_path = output_dir + \"processed_news_data.pkl\"\n",
        "tfidf_matrix_path = output_dir + \"tfidf_matrix.npz\"\n",
        "tfidf_vectorizer_path = output_dir + \"tfidf_vectorizer.pkl\"\n",
        "label_encoder_path = output_dir + \"label_encoder.pkl\"\n",
        "\n",
        "# Save the processed DataFrame\n",
        "df_processed.to_pickle(processed_df_path)\n",
        "print(f\"Processed DataFrame saved to: {processed_df_path}\")\n",
        "\n",
        "# Save the TF-IDF matrix (sparse format)\n",
        "save_npz(tfidf_matrix_path, tfidf_matrix)\n",
        "print(f\"TF-IDF matrix saved to: {tfidf_matrix_path}\")\n",
        "\n",
        "# Save the TF-IDF vectorizer\n",
        "with open(tfidf_vectorizer_path, 'wb') as f:\n",
        "    pickle.dump(tfidf_vectorizer, f)\n",
        "print(f\"TF-IDF vectorizer saved to: {tfidf_vectorizer_path}\")\n",
        "\n",
        "# Save the Label Encoder\n",
        "with open(label_encoder_path, 'wb') as f:\n",
        "    pickle.dump(label_encoder, f)\n",
        "print(f\"Label encoder saved to: {label_encoder_path}\")\n",
        "\n",
        "print(\"\\n--- All Steps Completed Successfully ---\")"
      ]
    }
  ],
  "metadata": {
    "colab": {
      "provenance": []
    },
    "kernelspec": {
      "display_name": "Python 3",
      "name": "python3"
    },
    "language_info": {
      "name": "python"
    }
  },
  "nbformat": 4,
  "nbformat_minor": 0
}
